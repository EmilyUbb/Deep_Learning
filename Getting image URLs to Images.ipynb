{
 "cells": [
  {
   "cell_type": "code",
   "execution_count": 50,
   "id": "22535069",
   "metadata": {},
   "outputs": [],
   "source": [
    "import pandas as pd\n",
    "from PIL import Image\n",
    "import requests\n",
    "import numpy as np\n",
    "from io import StringIO\n",
    "from IPython.display import Image, HTML\n",
    "from urllib.request import urlretrieve\n",
    "import urllib.request\n",
    "import requests\n",
    "import shutil"
   ]
  },
  {
   "cell_type": "code",
   "execution_count": null,
   "id": "84e64a60",
   "metadata": {},
   "outputs": [],
   "source": []
  },
  {
   "cell_type": "markdown",
   "id": "9fde6450",
   "metadata": {},
   "source": [
    "√ 1. Import CSV <br>\n",
    "2. Add the missing part of all URLS - Added, still needs to be merged to existing column <br>\n",
    "√ 3. Remove deadly/inedible/edible icons from imaeg CSV <br>\n",
    "4. Write for loop to retreive urls, and save them to a new data frame ? <br>"
   ]
  },
  {
   "cell_type": "code",
   "execution_count": 42,
   "id": "6a609ec2",
   "metadata": {},
   "outputs": [
    {
     "data": {
      "text/html": [
       "<div>\n",
       "<style scoped>\n",
       "    .dataframe tbody tr th:only-of-type {\n",
       "        vertical-align: middle;\n",
       "    }\n",
       "\n",
       "    .dataframe tbody tr th {\n",
       "        vertical-align: top;\n",
       "    }\n",
       "\n",
       "    .dataframe thead th {\n",
       "        text-align: right;\n",
       "    }\n",
       "</style>\n",
       "<table border=\"1\" class=\"dataframe\">\n",
       "  <thead>\n",
       "    <tr style=\"text-align: right;\">\n",
       "      <th></th>\n",
       "      <th>Unnamed: 0</th>\n",
       "      <th>Image</th>\n",
       "      <th>edibility</th>\n",
       "    </tr>\n",
       "  </thead>\n",
       "  <tbody>\n",
       "    <tr>\n",
       "      <th>0</th>\n",
       "      <td>0</td>\n",
       "      <td>/images/poisonous32.png</td>\n",
       "      <td>posionous</td>\n",
       "    </tr>\n",
       "    <tr>\n",
       "      <th>1</th>\n",
       "      <td>1</td>\n",
       "      <td>/../data/fungi/Amanitabisporigera1-thumb.jpg</td>\n",
       "      <td>posionous</td>\n",
       "    </tr>\n",
       "    <tr>\n",
       "      <th>2</th>\n",
       "      <td>2</td>\n",
       "      <td>/../data/fungi/Amanitabisporigera2-thumb.jpg</td>\n",
       "      <td>posionous</td>\n",
       "    </tr>\n",
       "    <tr>\n",
       "      <th>3</th>\n",
       "      <td>3</td>\n",
       "      <td>/../data/fungi/Amanitabisporigera3-thumb.jpg</td>\n",
       "      <td>posionous</td>\n",
       "    </tr>\n",
       "    <tr>\n",
       "      <th>4</th>\n",
       "      <td>4</td>\n",
       "      <td>/images/poisonous32.png</td>\n",
       "      <td>posionous</td>\n",
       "    </tr>\n",
       "  </tbody>\n",
       "</table>\n",
       "</div>"
      ],
      "text/plain": [
       "   Unnamed: 0                                         Image  edibility\n",
       "0           0                       /images/poisonous32.png  posionous\n",
       "1           1  /../data/fungi/Amanitabisporigera1-thumb.jpg  posionous\n",
       "2           2  /../data/fungi/Amanitabisporigera2-thumb.jpg  posionous\n",
       "3           3  /../data/fungi/Amanitabisporigera3-thumb.jpg  posionous\n",
       "4           4                       /images/poisonous32.png  posionous"
      ]
     },
     "execution_count": 42,
     "metadata": {},
     "output_type": "execute_result"
    }
   ],
   "source": [
    "mushrooms_links = pd.read_csv('mushrooms_img.csv')\n",
    "mushrooms_links.head()"
   ]
  },
  {
   "cell_type": "code",
   "execution_count": 43,
   "id": "c8fda551",
   "metadata": {},
   "outputs": [
    {
     "data": {
      "text/html": [
       "<div>\n",
       "<style scoped>\n",
       "    .dataframe tbody tr th:only-of-type {\n",
       "        vertical-align: middle;\n",
       "    }\n",
       "\n",
       "    .dataframe tbody tr th {\n",
       "        vertical-align: top;\n",
       "    }\n",
       "\n",
       "    .dataframe thead th {\n",
       "        text-align: right;\n",
       "    }\n",
       "</style>\n",
       "<table border=\"1\" class=\"dataframe\">\n",
       "  <thead>\n",
       "    <tr style=\"text-align: right;\">\n",
       "      <th></th>\n",
       "      <th>Image</th>\n",
       "      <th>edibility</th>\n",
       "      <th>Link_Half</th>\n",
       "    </tr>\n",
       "  </thead>\n",
       "  <tbody>\n",
       "    <tr>\n",
       "      <th>1</th>\n",
       "      <td>/data/fungi/Amanitabisporigera1-thumb.jpg</td>\n",
       "      <td>posionous</td>\n",
       "      <td>https://www.mushroom.world</td>\n",
       "    </tr>\n",
       "    <tr>\n",
       "      <th>2</th>\n",
       "      <td>/data/fungi/Amanitabisporigera2-thumb.jpg</td>\n",
       "      <td>posionous</td>\n",
       "      <td>https://www.mushroom.world</td>\n",
       "    </tr>\n",
       "    <tr>\n",
       "      <th>3</th>\n",
       "      <td>/data/fungi/Amanitabisporigera3-thumb.jpg</td>\n",
       "      <td>posionous</td>\n",
       "      <td>https://www.mushroom.world</td>\n",
       "    </tr>\n",
       "    <tr>\n",
       "      <th>5</th>\n",
       "      <td>/data/fungi/Amanitaphalloides1-thumb.JPG</td>\n",
       "      <td>posionous</td>\n",
       "      <td>https://www.mushroom.world</td>\n",
       "    </tr>\n",
       "    <tr>\n",
       "      <th>6</th>\n",
       "      <td>/data/fungi/Amanitaphalloides2-thumb.jpg</td>\n",
       "      <td>posionous</td>\n",
       "      <td>https://www.mushroom.world</td>\n",
       "    </tr>\n",
       "  </tbody>\n",
       "</table>\n",
       "</div>"
      ],
      "text/plain": [
       "                                       Image  edibility  \\\n",
       "1  /data/fungi/Amanitabisporigera1-thumb.jpg  posionous   \n",
       "2  /data/fungi/Amanitabisporigera2-thumb.jpg  posionous   \n",
       "3  /data/fungi/Amanitabisporigera3-thumb.jpg  posionous   \n",
       "5   /data/fungi/Amanitaphalloides1-thumb.JPG  posionous   \n",
       "6   /data/fungi/Amanitaphalloides2-thumb.jpg  posionous   \n",
       "\n",
       "                    Link_Half  \n",
       "1  https://www.mushroom.world  \n",
       "2  https://www.mushroom.world  \n",
       "3  https://www.mushroom.world  \n",
       "5  https://www.mushroom.world  \n",
       "6  https://www.mushroom.world  "
      ]
     },
     "execution_count": 43,
     "metadata": {},
     "output_type": "execute_result"
    }
   ],
   "source": [
    "mushrooms_links['Link_Half'] = 'https://www.mushroom.world'\n",
    "\n",
    "#remove all icon image links\n",
    "mushrooms_links = mushrooms_links[mushrooms_links.Image != '/images/edible32.png']\n",
    "mushrooms_links = mushrooms_links[mushrooms_links.Image != '/images/inedible32.png']\n",
    "mushrooms_links = mushrooms_links[mushrooms_links.Image != '/images/poisonous32.png']\n",
    "\n",
    "#remove unnecessary starting characters\n",
    "mushrooms_links['Image'] = mushrooms_links['Image'].str[3:]\n",
    "\n",
    "#dropping column that we dont need\n",
    "mushrooms_links.drop(columns=['Unnamed: 0'], inplace = True)\n",
    "\n",
    "#making sure everything workedmushrooms_links\n",
    "mushrooms_links.head()"
   ]
  },
  {
   "cell_type": "code",
   "execution_count": 44,
   "id": "6cad9423",
   "metadata": {},
   "outputs": [
    {
     "data": {
      "text/html": [
       "<div>\n",
       "<style scoped>\n",
       "    .dataframe tbody tr th:only-of-type {\n",
       "        vertical-align: middle;\n",
       "    }\n",
       "\n",
       "    .dataframe tbody tr th {\n",
       "        vertical-align: top;\n",
       "    }\n",
       "\n",
       "    .dataframe thead th {\n",
       "        text-align: right;\n",
       "    }\n",
       "</style>\n",
       "<table border=\"1\" class=\"dataframe\">\n",
       "  <thead>\n",
       "    <tr style=\"text-align: right;\">\n",
       "      <th></th>\n",
       "      <th>Image</th>\n",
       "      <th>edibility</th>\n",
       "      <th>Link_Half</th>\n",
       "      <th>Full_Link</th>\n",
       "    </tr>\n",
       "  </thead>\n",
       "  <tbody>\n",
       "    <tr>\n",
       "      <th>1</th>\n",
       "      <td>/data/fungi/Amanitabisporigera1-thumb.jpg</td>\n",
       "      <td>posionous</td>\n",
       "      <td>https://www.mushroom.world</td>\n",
       "      <td>https://www.mushroom.world/data/fungi/Amanitab...</td>\n",
       "    </tr>\n",
       "    <tr>\n",
       "      <th>2</th>\n",
       "      <td>/data/fungi/Amanitabisporigera2-thumb.jpg</td>\n",
       "      <td>posionous</td>\n",
       "      <td>https://www.mushroom.world</td>\n",
       "      <td>https://www.mushroom.world/data/fungi/Amanitab...</td>\n",
       "    </tr>\n",
       "    <tr>\n",
       "      <th>3</th>\n",
       "      <td>/data/fungi/Amanitabisporigera3-thumb.jpg</td>\n",
       "      <td>posionous</td>\n",
       "      <td>https://www.mushroom.world</td>\n",
       "      <td>https://www.mushroom.world/data/fungi/Amanitab...</td>\n",
       "    </tr>\n",
       "    <tr>\n",
       "      <th>5</th>\n",
       "      <td>/data/fungi/Amanitaphalloides1-thumb.JPG</td>\n",
       "      <td>posionous</td>\n",
       "      <td>https://www.mushroom.world</td>\n",
       "      <td>https://www.mushroom.world/data/fungi/Amanitap...</td>\n",
       "    </tr>\n",
       "    <tr>\n",
       "      <th>6</th>\n",
       "      <td>/data/fungi/Amanitaphalloides2-thumb.jpg</td>\n",
       "      <td>posionous</td>\n",
       "      <td>https://www.mushroom.world</td>\n",
       "      <td>https://www.mushroom.world/data/fungi/Amanitap...</td>\n",
       "    </tr>\n",
       "  </tbody>\n",
       "</table>\n",
       "</div>"
      ],
      "text/plain": [
       "                                       Image  edibility  \\\n",
       "1  /data/fungi/Amanitabisporigera1-thumb.jpg  posionous   \n",
       "2  /data/fungi/Amanitabisporigera2-thumb.jpg  posionous   \n",
       "3  /data/fungi/Amanitabisporigera3-thumb.jpg  posionous   \n",
       "5   /data/fungi/Amanitaphalloides1-thumb.JPG  posionous   \n",
       "6   /data/fungi/Amanitaphalloides2-thumb.jpg  posionous   \n",
       "\n",
       "                    Link_Half  \\\n",
       "1  https://www.mushroom.world   \n",
       "2  https://www.mushroom.world   \n",
       "3  https://www.mushroom.world   \n",
       "5  https://www.mushroom.world   \n",
       "6  https://www.mushroom.world   \n",
       "\n",
       "                                           Full_Link  \n",
       "1  https://www.mushroom.world/data/fungi/Amanitab...  \n",
       "2  https://www.mushroom.world/data/fungi/Amanitab...  \n",
       "3  https://www.mushroom.world/data/fungi/Amanitab...  \n",
       "5  https://www.mushroom.world/data/fungi/Amanitap...  \n",
       "6  https://www.mushroom.world/data/fungi/Amanitap...  "
      ]
     },
     "execution_count": 44,
     "metadata": {},
     "output_type": "execute_result"
    }
   ],
   "source": [
    "mushrooms_links[\"Full_Link\"] = mushrooms_links[\"Link_Half\"] + mushrooms_links[\"Image\"]\n",
    "mushrooms_links.head()"
   ]
  },
  {
   "cell_type": "code",
   "execution_count": 45,
   "id": "752dedad",
   "metadata": {},
   "outputs": [
    {
     "data": {
      "text/plain": [
       "'https://www.mushroom.world'"
      ]
     },
     "execution_count": 45,
     "metadata": {},
     "output_type": "execute_result"
    }
   ],
   "source": [
    "mushrooms_links[\"Link_Half\"][1]"
   ]
  },
  {
   "cell_type": "code",
   "execution_count": 46,
   "id": "d9c90917",
   "metadata": {},
   "outputs": [
    {
     "data": {
      "text/plain": [
       "'/data/fungi/Amanitabisporigera1-thumb.jpg'"
      ]
     },
     "execution_count": 46,
     "metadata": {},
     "output_type": "execute_result"
    }
   ],
   "source": [
    "mushrooms_links[\"Image\"][1]"
   ]
  },
  {
   "cell_type": "code",
   "execution_count": 61,
   "id": "1c46dcb3",
   "metadata": {},
   "outputs": [],
   "source": [
    "for img in mushrooms_links[\"Image\"]:\n",
    "    \n",
    "    url = str(\"https://www.mushroom.world\"+img)\n",
    "    r = requests.get(url, stream=True)\n",
    "    if r.status_code == 200:\n",
    "        with open(\"img.jpg\", 'wb') as f:\n",
    "            r.raw.decode_content = True\n",
    "            shutil.copyfileobj(r.raw, f)\n",
    "    #print (url)\n",
    "    \n",
    "    #urlretrieve(url)\n"
   ]
  },
  {
   "cell_type": "code",
   "execution_count": 21,
   "id": "3f6d50be",
   "metadata": {
    "scrolled": true
   },
   "outputs": [
    {
     "ename": "AttributeError",
     "evalue": "'str' object has no attribute 'to_html'",
     "output_type": "error",
     "traceback": [
      "\u001b[0;31m---------------------------------------------------------------------------\u001b[0m",
      "\u001b[0;31mAttributeError\u001b[0m                            Traceback (most recent call last)",
      "\u001b[0;32m<ipython-input-21-461dafb12867>\u001b[0m in \u001b[0;36m<module>\u001b[0;34m\u001b[0m\n\u001b[1;32m      1\u001b[0m \u001b[0;32mfor\u001b[0m \u001b[0murl\u001b[0m \u001b[0;32min\u001b[0m \u001b[0mmushrooms_links\u001b[0m\u001b[0;34m[\u001b[0m\u001b[0;34m\"Full_Link\"\u001b[0m\u001b[0;34m]\u001b[0m\u001b[0;34m:\u001b[0m\u001b[0;34m\u001b[0m\u001b[0;34m\u001b[0m\u001b[0m\n\u001b[0;32m----> 2\u001b[0;31m     \u001b[0mmushrooms_links\u001b[0m\u001b[0;34m[\u001b[0m\u001b[0;34m\"Image\"\u001b[0m\u001b[0;34m]\u001b[0m \u001b[0;34m=\u001b[0m \u001b[0mHTML\u001b[0m\u001b[0;34m(\u001b[0m\u001b[0murl\u001b[0m\u001b[0;34m.\u001b[0m\u001b[0mto_html\u001b[0m\u001b[0;34m(\u001b[0m\u001b[0mescape\u001b[0m\u001b[0;34m=\u001b[0m\u001b[0;32mFalse\u001b[0m\u001b[0;34m)\u001b[0m\u001b[0;34m)\u001b[0m\u001b[0;34m\u001b[0m\u001b[0;34m\u001b[0m\u001b[0m\n\u001b[0m",
      "\u001b[0;31mAttributeError\u001b[0m: 'str' object has no attribute 'to_html'"
     ]
    }
   ],
   "source": [
    "for url in mushrooms_links[\"Full_Link\"]:\n",
    "    mushrooms_links[\"Image\"] = HTML(url.to_html(escape=False))"
   ]
  },
  {
   "cell_type": "code",
   "execution_count": null,
   "id": "42837a89",
   "metadata": {},
   "outputs": [],
   "source": [
    "\n",
    "df = pd.DataFrame()\n",
    "\n",
    "for url in mushrooms_links[\"Full_Link\"]:\n",
    "    response = requests.get(url)\n",
    "    img = np.array(Image.open(StringIO(response.content)))\n",
    "    df = df.append(data = [img.T])\n",
    "\n",
    "df    "
   ]
  },
  {
   "cell_type": "code",
   "execution_count": null,
   "id": "d2d2391c",
   "metadata": {},
   "outputs": [],
   "source": [
    "urllib.request.urlretrieve(\n",
    "  'https://media.geeksforgeeks.org/wp-content/uploads/20210318103632/gfg-300x300.png',\n",
    "   \"gfg.png\")\n",
    "  \n",
    "img = Image.open(\"gfg.png\")\n",
    "img.show()\n"
   ]
  }
 ],
 "metadata": {
  "kernelspec": {
   "display_name": "Python 3",
   "language": "python",
   "name": "python3"
  },
  "language_info": {
   "codemirror_mode": {
    "name": "ipython",
    "version": 3
   },
   "file_extension": ".py",
   "mimetype": "text/x-python",
   "name": "python",
   "nbconvert_exporter": "python",
   "pygments_lexer": "ipython3",
   "version": "3.8.8"
  }
 },
 "nbformat": 4,
 "nbformat_minor": 5
}
